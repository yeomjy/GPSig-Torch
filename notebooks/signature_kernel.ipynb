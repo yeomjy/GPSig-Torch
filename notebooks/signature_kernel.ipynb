{
 "cells": [
  {
   "cell_type": "markdown",
   "metadata": {},
   "source": [
    "# Testing the higher order signature kernel\n",
    "***"
   ]
  },
  {
   "cell_type": "markdown",
   "metadata": {},
   "source": [
    "The esig package implements the computation of the higher order signature kernel, which we can use to validate our implementation."
   ]
  },
  {
   "cell_type": "code",
   "execution_count": 1,
   "metadata": {
    "ExecuteTime": {
     "end_time": "2024-02-08T06:01:01.067577901Z",
     "start_time": "2024-02-08T06:00:59.815382362Z"
    }
   },
   "outputs": [],
   "source": [
    "import os\n",
    "# os.environ['CUDA_VISIBLE_DEVICES'] = '2'\n",
    "\n",
    "import sys\n",
    "\n",
    "sys.path.append('..')  # add to path parent dir of gpsig\n",
    "import tensorflow as tf\n",
    "tf.compat.v1.logging.set_verbosity(tf.compat.v1.logging.ERROR)\n",
    "# numerics\n",
    "import numpy as np\n",
    "\n",
    "# signatures\n",
    "import gpsig\n",
    "import esig"
   ]
  },
  {
   "cell_type": "markdown",
   "metadata": {},
   "source": [
    "***\n",
    "To do so, we simply compare the entries of the signature kernel matrix computed by gpsig with inner products of signature features computed by esig. First, generate some random data, the details of which is irrelevant for this comparison."
   ]
  },
  {
   "cell_type": "code",
   "execution_count": 2,
   "metadata": {
    "ExecuteTime": {
     "end_time": "2024-02-08T06:01:01.067923157Z",
     "start_time": "2024-02-08T06:01:01.025361587Z"
    }
   },
   "outputs": [],
   "source": [
    "num_levels = 5\n",
    "num_examples = 100\n",
    "len_examples = 50\n",
    "num_features = 3\n",
    "X = np.random.randn(num_examples, len_examples, num_features)"
   ]
  },
  {
   "cell_type": "markdown",
   "metadata": {},
   "source": [
    "***\n",
    "### Validating the signature kernel\n",
    "##### Computing signature features with esig"
   ]
  },
  {
   "cell_type": "code",
   "execution_count": 3,
   "metadata": {
    "ExecuteTime": {
     "end_time": "2024-02-08T06:01:01.340609935Z",
     "start_time": "2024-02-08T06:01:01.025570204Z"
    }
   },
   "outputs": [],
   "source": [
    "esig.is_library_loaded()\n",
    "sigs = np.asarray([esig.tosig.stream2sig(x, num_levels) for x in X])"
   ]
  },
  {
   "cell_type": "markdown",
   "metadata": {},
   "source": [
    "The sigs array contains signature features up to level $M=5$ flattened out into $(1 + d + d^2 + \\dots + d^M)$ dimensions. Signatures are tensors in the truncated tensor algebra $\\mathbf{S}_{\\leq M}(\\mathbf{x}) \\in \\prod_{m=0}^M (\\mathbb{R}^d)^{\\otimes m}$, but this space is analogous to $\\mathbb{R}^{1+d+d^2+\\dots+d^M}$ with the Euclidean inner product, which we can use on these flattened out tensors to recover the signature kernel."
   ]
  },
  {
   "cell_type": "code",
   "execution_count": 4,
   "metadata": {
    "ExecuteTime": {
     "end_time": "2024-02-08T06:01:01.386184077Z",
     "start_time": "2024-02-08T06:01:01.343479204Z"
    }
   },
   "outputs": [],
   "source": [
    "K_esig = sigs @ sigs.T"
   ]
  },
  {
   "cell_type": "markdown",
   "metadata": {},
   "source": [
    "##### Computing the signature kernel with gpsig"
   ]
  },
  {
   "cell_type": "markdown",
   "metadata": {},
   "source": [
    "In gpsig, we first use a state-space embedding $x \\mapsto \\kappa(x, \\cdot)$ from $\\mathbb{R}^d$ into an RKHS $V$, i.e. with some abuse of notation $\\kappa_{\\mathbf{x}} = (\\kappa(x_i, \\cdot))_{i=1,\\dots, l_{\\mathbf x}}$ for $\\mathbf{x} = (x_i)_{i=1,\\dots,l_{\\mathbf x}}$. To recover the same setting as in esig, we may use as state-space embedding the identity map, which specifies that the inner product of two observations is simply the Euclidean inner product. This variant of the signature kernel is called _SignatureLinear_ here.\n",
    "\n",
    "We remark that esig uses the highest order signature features, which corresponds in our case to setting $D = M$, i.e. _order = num_levels_. Furthermore, the default setting is to normalize each signature level, which we have to turn off."
   ]
  },
  {
   "cell_type": "code",
   "execution_count": 5,
   "metadata": {
    "ExecuteTime": {
     "end_time": "2024-02-08T06:03:18.446514272Z",
     "start_time": "2024-02-08T06:03:15.236712370Z"
    }
   },
   "outputs": [
    {
     "name": "stdout",
     "output_type": "stream",
     "text": [
      "jitter: 1e-06\n",
      "float dtype: <class 'numpy.float64'>\n",
      "int dtype: <class 'numpy.int32'>\n",
      "(3,)\n"
     ]
    },
    {
     "name": "stderr",
     "output_type": "stream",
     "text": [
      "2024-02-08 19:24:51.913781: I tensorflow/core/platform/cpu_feature_guard.cc:142] Your CPU supports instructions that this TensorFlow binary was not compiled to use: AVX2 FMA\n",
      "2024-02-08 19:24:51.919438: I tensorflow/core/platform/profile_utils/cpu_utils.cc:94] CPU Frequency: 3601565000 Hz\n",
      "2024-02-08 19:24:51.920420: I tensorflow/compiler/xla/service/service.cc:168] XLA service 0x471e870 initialized for platform Host (this does not guarantee that XLA will be used). Devices:\n",
      "2024-02-08 19:24:51.920464: I tensorflow/compiler/xla/service/service.cc:176]   StreamExecutor device (0): Host, Default Version\n"
     ]
    }
   ],
   "source": [
    "input_dim = num_features * len_examples\n",
    "kern = gpsig.kernels.SignatureLinear(input_dim, num_features, num_levels,\n",
    "                                     order=num_levels, normalization=False,\n",
    "                                     lengthscales=1)\n",
    "K_gpsig = kern.compute_K_symm(X.reshape([num_examples, -1]))\n",
    "# print(kern.lengthscales)\n",
    "# merge last two axes of the input since the kernel expects a 2d array"
   ]
  },
  {
   "cell_type": "markdown",
   "metadata": {},
   "source": [
    "##### Comparing the results"
   ]
  },
  {
   "cell_type": "code",
   "execution_count": 6,
   "metadata": {
    "ExecuteTime": {
     "end_time": "2024-02-08T06:01:04.729985515Z",
     "start_time": "2024-02-08T06:01:04.728456586Z"
    }
   },
   "outputs": [
    {
     "name": "stdout",
     "output_type": "stream",
     "text": [
      "2-norm: 7.4074146094254315e-09\n",
      "Fro-norm: 2.022270488955288e-08\n",
      "Inf-norm: 3.455966179899406e-08\n"
     ]
    }
   ],
   "source": [
    "K_diff = K_esig - K_gpsig\n",
    "print('2-norm: {}'.format(np.linalg.norm(K_diff, ord=2)))\n",
    "print('Fro-norm: {}'.format(np.linalg.norm(K_diff, ord='fro')))\n",
    "print('Inf-norm: {}'.format(np.linalg.norm(K_diff, ord=np.inf)))"
   ]
  },
  {
   "cell_type": "markdown",
   "metadata": {},
   "source": [
    "### Validating the (augmented) signature vs tensor kernel\n",
    "First, let us generate some sparse tensors of the form $\\mathbf{z} = (z_{m,1} \\otimes \\dots \\otimes z_{m, m})_{m=0,\\dots,M}$, i.e. we generate the elements $z_{m,i} \\in \\mathbb{R}^d$ in the tensor products for each $0 \\geq i \\geq m$ and $0 \\geq m \\geq M$.\n",
    "\n",
    "The gpsig kernel expects that the tensors are in $(M(M+1)/2, n_{\\mathbf Z}, d)$ format, i.e. all $z_{m, i}$ are stacked together along the first axis."
   ]
  },
  {
   "cell_type": "code",
   "execution_count": 7,
   "metadata": {
    "ExecuteTime": {
     "end_time": "2024-02-08T06:01:04.779907258Z",
     "start_time": "2024-02-08T06:01:04.731397551Z"
    }
   },
   "outputs": [],
   "source": [
    "num_tensors = 100\n",
    "Z = np.random.randn(int(num_levels * (num_levels + 1) / 2), num_tensors,\n",
    "                    num_features)"
   ]
  },
  {
   "cell_type": "markdown",
   "metadata": {},
   "source": [
    "##### Computing the corresponding tensor features"
   ]
  },
  {
   "cell_type": "markdown",
   "metadata": {},
   "source": [
    "The generated components are a low-dimensional representation of the generally high-dimensional tensors, which is feasible due to the sparsity constraint. Hence, next we build the actual tensors that take values in $\\prod_{m=0}^M (\\mathbb{R}^d)^{\\otimes m}$, but we flatten the dimensions out, similarly to the signature features previously."
   ]
  },
  {
   "cell_type": "code",
   "execution_count": 8,
   "metadata": {
    "ExecuteTime": {
     "end_time": "2024-02-08T06:01:04.825512118Z",
     "start_time": "2024-02-08T06:01:04.782151387Z"
    }
   },
   "outputs": [],
   "source": [
    "tens = [np.ones((100, 1))]\n",
    "k = 0\n",
    "for m in range(1, num_levels + 1):\n",
    "    Zm = Z[k]\n",
    "    k += 1\n",
    "    for i in range(1, m):\n",
    "        Zm = (Zm[..., None] * Z[k, :, None, :]).reshape([num_tensors, -1])\n",
    "        k += 1\n",
    "    tens.append(Zm)\n",
    "tens = np.concatenate(tens, axis=1)"
   ]
  },
  {
   "cell_type": "code",
   "execution_count": 9,
   "metadata": {
    "ExecuteTime": {
     "end_time": "2024-02-08T06:01:04.826280550Z",
     "start_time": "2024-02-08T06:01:04.825858096Z"
    }
   },
   "outputs": [],
   "source": [
    "K_tens_vs_sig = tens @ sigs.T"
   ]
  },
  {
   "cell_type": "markdown",
   "metadata": {},
   "source": [
    "##### Computing the tensors vs signatures kernel with gpsig"
   ]
  },
  {
   "cell_type": "code",
   "execution_count": 10,
   "metadata": {
    "ExecuteTime": {
     "end_time": "2024-02-08T06:01:05.021291325Z",
     "start_time": "2024-02-08T06:01:04.827988649Z"
    }
   },
   "outputs": [],
   "source": [
    "K_tens_vs_seq_gpsig = kern.compute_K_tens_vs_seq(Z,\n",
    "                                                 X.reshape([num_examples, -1]))"
   ]
  },
  {
   "cell_type": "markdown",
   "metadata": {},
   "source": [
    "##### Comparing the results"
   ]
  },
  {
   "cell_type": "code",
   "execution_count": 11,
   "metadata": {
    "ExecuteTime": {
     "end_time": "2024-02-08T06:01:05.028032519Z",
     "start_time": "2024-02-08T06:01:05.024019675Z"
    }
   },
   "outputs": [
    {
     "name": "stdout",
     "output_type": "stream",
     "text": [
      "2-norm: 1.461843794310358e-11\n",
      "Fro-norm: 4.0155780433586177e-11\n",
      "Inf-norm: 8.395639738978389e-11\n"
     ]
    }
   ],
   "source": [
    "K_tens_vs_seq_diff = K_tens_vs_sig - K_tens_vs_seq_gpsig\n",
    "print('2-norm: {}'.format(np.linalg.norm(K_tens_vs_seq_diff, ord=2)))\n",
    "print('Fro-norm: {}'.format(np.linalg.norm(K_tens_vs_seq_diff, ord='fro')))\n",
    "print('Inf-norm: {}'.format(np.linalg.norm(K_tens_vs_seq_diff, ord=np.inf)))"
   ]
  },
  {
   "cell_type": "markdown",
   "metadata": {},
   "source": [
    "### Validating the (augmented) tensor vs tensor kernel\n",
    "Finally, we validate the computation of tensor vs tensor inner product in gpsig.\n",
    "\n",
    "##### Computing the tensor vs tensor kernel as inner product of tensor features"
   ]
  },
  {
   "cell_type": "code",
   "execution_count": 12,
   "metadata": {
    "ExecuteTime": {
     "end_time": "2024-02-08T06:01:05.070827143Z",
     "start_time": "2024-02-08T06:01:05.026957163Z"
    }
   },
   "outputs": [],
   "source": [
    "K_tens_vs_tens = tens @ tens.T"
   ]
  },
  {
   "cell_type": "markdown",
   "metadata": {},
   "source": [
    "##### Computing the tensor vs tensor kernel with gpsig"
   ]
  },
  {
   "cell_type": "code",
   "execution_count": 13,
   "metadata": {
    "ExecuteTime": {
     "end_time": "2024-02-08T06:01:05.150094304Z",
     "start_time": "2024-02-08T06:01:05.070794191Z"
    }
   },
   "outputs": [],
   "source": [
    "K_tens_vs_tens_gpsig = kern.compute_K_tens(Z)"
   ]
  },
  {
   "cell_type": "markdown",
   "metadata": {},
   "source": [
    "##### Comparing the results"
   ]
  },
  {
   "cell_type": "code",
   "execution_count": 14,
   "metadata": {
    "ExecuteTime": {
     "end_time": "2024-02-08T06:01:05.192264129Z",
     "start_time": "2024-02-08T06:01:05.151878618Z"
    }
   },
   "outputs": [
    {
     "name": "stdout",
     "output_type": "stream",
     "text": [
      "2-norm: 9.164109304523378e-13\n",
      "Fro-norm: 1.5978343852785568e-12\n",
      "Inf-norm: 1.4150902671872245e-12\n"
     ]
    }
   ],
   "source": [
    "K_tens_vs_tens_diff = K_tens_vs_tens - K_tens_vs_tens_gpsig\n",
    "print('2-norm: {}'.format(np.linalg.norm(K_tens_vs_tens_diff, ord=2)))\n",
    "print('Fro-norm: {}'.format(np.linalg.norm(K_tens_vs_tens_diff, ord='fro')))\n",
    "print('Inf-norm: {}'.format(np.linalg.norm(K_tens_vs_tens_diff, ord=np.inf)))"
   ]
  },
  {
   "cell_type": "code",
   "execution_count": null,
   "metadata": {
    "ExecuteTime": {
     "end_time": "2024-02-08T06:01:05.192852748Z",
     "start_time": "2024-02-08T06:01:05.192168066Z"
    }
   },
   "outputs": [],
   "source": []
  }
 ],
 "metadata": {
  "kernelspec": {
   "display_name": "Python 3 (ipykernel)",
   "language": "python",
   "name": "python3"
  },
  "language_info": {
   "codemirror_mode": {
    "name": "ipython",
    "version": 3
   },
   "file_extension": ".py",
   "mimetype": "text/x-python",
   "name": "python",
   "nbconvert_exporter": "python",
   "pygments_lexer": "ipython3",
   "version": "3.7.16"
  }
 },
 "nbformat": 4,
 "nbformat_minor": 4
}
