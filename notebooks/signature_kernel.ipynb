{
 "cells": [
  {
   "cell_type": "markdown",
   "metadata": {},
   "source": [
    "# Testing the higher order signature kernel\n",
    "***"
   ]
  },
  {
   "cell_type": "markdown",
   "metadata": {},
   "source": [
    "The esig package implements the computation of the higher order signature kernel, which we can use to validate our implementation."
   ]
  },
  {
   "cell_type": "code",
   "execution_count": 1,
   "metadata": {
    "ExecuteTime": {
     "end_time": "2024-02-07T06:49:50.081759320Z",
     "start_time": "2024-02-07T06:49:48.843042121Z"
    }
   },
   "outputs": [
    {
     "name": "stdout",
     "output_type": "stream",
     "text": [
      "WARNING:tensorflow:From /home/yeomjy/.local/conda/envs/gpsig/lib/python3.7/site-packages/gpflow/session_manager.py:31: The name tf.Session is deprecated. Please use tf.compat.v1.Session instead.\n"
     ]
    },
    {
     "name": "stderr",
     "output_type": "stream",
     "text": [
      "WARNING:tensorflow:From /home/yeomjy/.local/conda/envs/gpsig/lib/python3.7/site-packages/gpflow/session_manager.py:31: The name tf.Session is deprecated. Please use tf.compat.v1.Session instead.\n",
      "\n"
     ]
    },
    {
     "name": "stdout",
     "output_type": "stream",
     "text": [
      "WARNING:tensorflow:From /home/yeomjy/.local/conda/envs/gpsig/lib/python3.7/site-packages/gpflow/misc.py:27: The name tf.GraphKeys is deprecated. Please use tf.compat.v1.GraphKeys instead.\n"
     ]
    },
    {
     "name": "stderr",
     "output_type": "stream",
     "text": [
      "WARNING:tensorflow:From /home/yeomjy/.local/conda/envs/gpsig/lib/python3.7/site-packages/gpflow/misc.py:27: The name tf.GraphKeys is deprecated. Please use tf.compat.v1.GraphKeys instead.\n",
      "\n"
     ]
    },
    {
     "name": "stdout",
     "output_type": "stream",
     "text": [
      "WARNING:tensorflow:From /home/yeomjy/.local/conda/envs/gpsig/lib/python3.7/site-packages/gpflow/training/tensorflow_optimizer.py:169: The name tf.train.AdadeltaOptimizer is deprecated. Please use tf.compat.v1.train.AdadeltaOptimizer instead.\n"
     ]
    },
    {
     "name": "stderr",
     "output_type": "stream",
     "text": [
      "WARNING:tensorflow:From /home/yeomjy/.local/conda/envs/gpsig/lib/python3.7/site-packages/gpflow/training/tensorflow_optimizer.py:169: The name tf.train.AdadeltaOptimizer is deprecated. Please use tf.compat.v1.train.AdadeltaOptimizer instead.\n",
      "\n"
     ]
    },
    {
     "name": "stdout",
     "output_type": "stream",
     "text": [
      "WARNING:tensorflow:From /home/yeomjy/.local/conda/envs/gpsig/lib/python3.7/site-packages/gpflow/training/tensorflow_optimizer.py:156: The name tf.train.Optimizer is deprecated. Please use tf.compat.v1.train.Optimizer instead.\n"
     ]
    },
    {
     "name": "stderr",
     "output_type": "stream",
     "text": [
      "WARNING:tensorflow:From /home/yeomjy/.local/conda/envs/gpsig/lib/python3.7/site-packages/gpflow/training/tensorflow_optimizer.py:156: The name tf.train.Optimizer is deprecated. Please use tf.compat.v1.train.Optimizer instead.\n",
      "\n"
     ]
    },
    {
     "name": "stdout",
     "output_type": "stream",
     "text": [
      "WARNING:tensorflow:From /home/yeomjy/.local/conda/envs/gpsig/lib/python3.7/site-packages/gpflow/training/tensorflow_optimizer.py:169: The name tf.train.AdagradDAOptimizer is deprecated. Please use tf.compat.v1.train.AdagradDAOptimizer instead.\n"
     ]
    },
    {
     "name": "stderr",
     "output_type": "stream",
     "text": [
      "WARNING:tensorflow:From /home/yeomjy/.local/conda/envs/gpsig/lib/python3.7/site-packages/gpflow/training/tensorflow_optimizer.py:169: The name tf.train.AdagradDAOptimizer is deprecated. Please use tf.compat.v1.train.AdagradDAOptimizer instead.\n",
      "\n"
     ]
    },
    {
     "name": "stdout",
     "output_type": "stream",
     "text": [
      "WARNING:tensorflow:From /home/yeomjy/.local/conda/envs/gpsig/lib/python3.7/site-packages/gpflow/training/tensorflow_optimizer.py:169: The name tf.train.AdagradOptimizer is deprecated. Please use tf.compat.v1.train.AdagradOptimizer instead.\n"
     ]
    },
    {
     "name": "stderr",
     "output_type": "stream",
     "text": [
      "WARNING:tensorflow:From /home/yeomjy/.local/conda/envs/gpsig/lib/python3.7/site-packages/gpflow/training/tensorflow_optimizer.py:169: The name tf.train.AdagradOptimizer is deprecated. Please use tf.compat.v1.train.AdagradOptimizer instead.\n",
      "\n"
     ]
    },
    {
     "name": "stdout",
     "output_type": "stream",
     "text": [
      "WARNING:tensorflow:From /home/yeomjy/.local/conda/envs/gpsig/lib/python3.7/site-packages/gpflow/training/tensorflow_optimizer.py:169: The name tf.train.AdamOptimizer is deprecated. Please use tf.compat.v1.train.AdamOptimizer instead.\n"
     ]
    },
    {
     "name": "stderr",
     "output_type": "stream",
     "text": [
      "WARNING:tensorflow:From /home/yeomjy/.local/conda/envs/gpsig/lib/python3.7/site-packages/gpflow/training/tensorflow_optimizer.py:169: The name tf.train.AdamOptimizer is deprecated. Please use tf.compat.v1.train.AdamOptimizer instead.\n",
      "\n"
     ]
    },
    {
     "name": "stdout",
     "output_type": "stream",
     "text": [
      "WARNING:tensorflow:From /home/yeomjy/.local/conda/envs/gpsig/lib/python3.7/site-packages/gpflow/training/tensorflow_optimizer.py:169: The name tf.train.FtrlOptimizer is deprecated. Please use tf.compat.v1.train.FtrlOptimizer instead.\n"
     ]
    },
    {
     "name": "stderr",
     "output_type": "stream",
     "text": [
      "WARNING:tensorflow:From /home/yeomjy/.local/conda/envs/gpsig/lib/python3.7/site-packages/gpflow/training/tensorflow_optimizer.py:169: The name tf.train.FtrlOptimizer is deprecated. Please use tf.compat.v1.train.FtrlOptimizer instead.\n",
      "\n"
     ]
    },
    {
     "name": "stdout",
     "output_type": "stream",
     "text": [
      "WARNING:tensorflow:From /home/yeomjy/.local/conda/envs/gpsig/lib/python3.7/site-packages/gpflow/training/tensorflow_optimizer.py:169: The name tf.train.GradientDescentOptimizer is deprecated. Please use tf.compat.v1.train.GradientDescentOptimizer instead.\n"
     ]
    },
    {
     "name": "stderr",
     "output_type": "stream",
     "text": [
      "WARNING:tensorflow:From /home/yeomjy/.local/conda/envs/gpsig/lib/python3.7/site-packages/gpflow/training/tensorflow_optimizer.py:169: The name tf.train.GradientDescentOptimizer is deprecated. Please use tf.compat.v1.train.GradientDescentOptimizer instead.\n",
      "\n"
     ]
    },
    {
     "name": "stdout",
     "output_type": "stream",
     "text": [
      "WARNING:tensorflow:From /home/yeomjy/.local/conda/envs/gpsig/lib/python3.7/site-packages/gpflow/training/tensorflow_optimizer.py:169: The name tf.train.MomentumOptimizer is deprecated. Please use tf.compat.v1.train.MomentumOptimizer instead.\n"
     ]
    },
    {
     "name": "stderr",
     "output_type": "stream",
     "text": [
      "WARNING:tensorflow:From /home/yeomjy/.local/conda/envs/gpsig/lib/python3.7/site-packages/gpflow/training/tensorflow_optimizer.py:169: The name tf.train.MomentumOptimizer is deprecated. Please use tf.compat.v1.train.MomentumOptimizer instead.\n",
      "\n"
     ]
    },
    {
     "name": "stdout",
     "output_type": "stream",
     "text": [
      "WARNING:tensorflow:From /home/yeomjy/.local/conda/envs/gpsig/lib/python3.7/site-packages/gpflow/training/tensorflow_optimizer.py:169: The name tf.train.ProximalAdagradOptimizer is deprecated. Please use tf.compat.v1.train.ProximalAdagradOptimizer instead.\n"
     ]
    },
    {
     "name": "stderr",
     "output_type": "stream",
     "text": [
      "WARNING:tensorflow:From /home/yeomjy/.local/conda/envs/gpsig/lib/python3.7/site-packages/gpflow/training/tensorflow_optimizer.py:169: The name tf.train.ProximalAdagradOptimizer is deprecated. Please use tf.compat.v1.train.ProximalAdagradOptimizer instead.\n",
      "\n"
     ]
    },
    {
     "name": "stdout",
     "output_type": "stream",
     "text": [
      "WARNING:tensorflow:From /home/yeomjy/.local/conda/envs/gpsig/lib/python3.7/site-packages/gpflow/training/tensorflow_optimizer.py:169: The name tf.train.ProximalGradientDescentOptimizer is deprecated. Please use tf.compat.v1.train.ProximalGradientDescentOptimizer instead.\n"
     ]
    },
    {
     "name": "stderr",
     "output_type": "stream",
     "text": [
      "WARNING:tensorflow:From /home/yeomjy/.local/conda/envs/gpsig/lib/python3.7/site-packages/gpflow/training/tensorflow_optimizer.py:169: The name tf.train.ProximalGradientDescentOptimizer is deprecated. Please use tf.compat.v1.train.ProximalGradientDescentOptimizer instead.\n",
      "\n"
     ]
    },
    {
     "name": "stdout",
     "output_type": "stream",
     "text": [
      "WARNING:tensorflow:From /home/yeomjy/.local/conda/envs/gpsig/lib/python3.7/site-packages/gpflow/training/tensorflow_optimizer.py:169: The name tf.train.RMSPropOptimizer is deprecated. Please use tf.compat.v1.train.RMSPropOptimizer instead.\n"
     ]
    },
    {
     "name": "stderr",
     "output_type": "stream",
     "text": [
      "WARNING:tensorflow:From /home/yeomjy/.local/conda/envs/gpsig/lib/python3.7/site-packages/gpflow/training/tensorflow_optimizer.py:169: The name tf.train.RMSPropOptimizer is deprecated. Please use tf.compat.v1.train.RMSPropOptimizer instead.\n",
      "\n"
     ]
    },
    {
     "name": "stdout",
     "output_type": "stream",
     "text": [
      "WARNING:tensorflow:From /home/yeomjy/.local/conda/envs/gpsig/lib/python3.7/site-packages/gpflow/saver/coders.py:80: The name tf.data.Iterator is deprecated. Please use tf.compat.v1.data.Iterator instead.\n"
     ]
    },
    {
     "name": "stderr",
     "output_type": "stream",
     "text": [
      "WARNING:tensorflow:From /home/yeomjy/.local/conda/envs/gpsig/lib/python3.7/site-packages/gpflow/saver/coders.py:80: The name tf.data.Iterator is deprecated. Please use tf.compat.v1.data.Iterator instead.\n",
      "\n"
     ]
    },
    {
     "name": "stdout",
     "output_type": "stream",
     "text": [
      "WARNING:tensorflow:\n",
      "The TensorFlow contrib module will not be included in TensorFlow 2.0.\n",
      "For more information, please see:\n",
      "  * https://github.com/tensorflow/community/blob/master/rfcs/20180907-contrib-sunset.md\n",
      "  * https://github.com/tensorflow/addons\n",
      "  * https://github.com/tensorflow/io (for I/O related ops)\n",
      "If you depend on functionality not listed there, please file an issue.\n"
     ]
    },
    {
     "name": "stderr",
     "output_type": "stream",
     "text": [
      "WARNING:tensorflow:\n",
      "The TensorFlow contrib module will not be included in TensorFlow 2.0.\n",
      "For more information, please see:\n",
      "  * https://github.com/tensorflow/community/blob/master/rfcs/20180907-contrib-sunset.md\n",
      "  * https://github.com/tensorflow/addons\n",
      "  * https://github.com/tensorflow/io (for I/O related ops)\n",
      "If you depend on functionality not listed there, please file an issue.\n",
      "\n"
     ]
    },
    {
     "name": "stdout",
     "output_type": "stream",
     "text": [
      "WARNING:tensorflow:From /home/yeomjy/GitHub/gpsig/gpsig/utils.py:3: The name tf.logging.set_verbosity is deprecated. Please use tf.compat.v1.logging.set_verbosity instead.\n"
     ]
    },
    {
     "name": "stderr",
     "output_type": "stream",
     "text": [
      "WARNING:tensorflow:From /home/yeomjy/GitHub/gpsig/gpsig/utils.py:3: The name tf.logging.set_verbosity is deprecated. Please use tf.compat.v1.logging.set_verbosity instead.\n",
      "\n"
     ]
    },
    {
     "name": "stdout",
     "output_type": "stream",
     "text": [
      "WARNING:tensorflow:From /home/yeomjy/GitHub/gpsig/gpsig/utils.py:3: The name tf.logging.ERROR is deprecated. Please use tf.compat.v1.logging.ERROR instead.\n"
     ]
    },
    {
     "name": "stderr",
     "output_type": "stream",
     "text": [
      "WARNING:tensorflow:From /home/yeomjy/GitHub/gpsig/gpsig/utils.py:3: The name tf.logging.ERROR is deprecated. Please use tf.compat.v1.logging.ERROR instead.\n",
      "\n"
     ]
    },
    {
     "name": "stdout",
     "output_type": "stream",
     "text": [
      "Ignoring attempt to add_dll_directory.\n"
     ]
    }
   ],
   "source": [
    "import os\n",
    "# os.environ['CUDA_VISIBLE_DEVICES'] = '2'\n",
    "\n",
    "import sys\n",
    "sys.path.append('..') # add to path parent dir of gpsig\n",
    "\n",
    "# numerics\n",
    "import numpy as np\n",
    "\n",
    "# signatures\n",
    "import gpsig\n",
    "import esig"
   ]
  },
  {
   "cell_type": "markdown",
   "metadata": {},
   "source": [
    "***\n",
    "To do so, we simply compare the entries of the signature kernel matrix computed by gpsig with inner products of signature features computed by esig. First, generate some random data, the details of which is irrelevant for this comparison."
   ]
  },
  {
   "cell_type": "code",
   "execution_count": 2,
   "metadata": {
    "ExecuteTime": {
     "end_time": "2024-02-07T06:49:58.888214702Z",
     "start_time": "2024-02-07T06:49:58.879521012Z"
    }
   },
   "outputs": [],
   "source": [
    "num_levels = 5\n",
    "num_examples = 100\n",
    "len_examples = 50\n",
    "num_features = 3\n",
    "X = np.random.randn(num_examples, len_examples, num_features)"
   ]
  },
  {
   "cell_type": "markdown",
   "metadata": {},
   "source": [
    "***\n",
    "### Validating the signature kernel\n",
    "##### Computing signature features with esig"
   ]
  },
  {
   "cell_type": "code",
   "execution_count": 3,
   "metadata": {
    "ExecuteTime": {
     "end_time": "2024-02-07T06:50:04.488085718Z",
     "start_time": "2024-02-07T06:50:04.209112880Z"
    }
   },
   "outputs": [],
   "source": [
    "esig.is_library_loaded()\n",
    "sigs = np.asarray([esig.tosig.stream2sig(x, num_levels) for x in X])"
   ]
  },
  {
   "cell_type": "markdown",
   "metadata": {},
   "source": [
    "The sigs array contains signature features up to level $M=5$ flattened out into $(1 + d + d^2 + \\dots + d^M)$ dimensions. Signatures are tensors in the truncated tensor algebra $\\mathbf{S}_{\\leq M}(\\mathbf{x}) \\in \\prod_{m=0}^M (\\mathbb{R}^d)^{\\otimes m}$, but this space is analogous to $\\mathbb{R}^{1+d+d^2+\\dots+d^M}$ with the Euclidean inner product, which we can use on these flattened out tensors to recover the signature kernel."
   ]
  },
  {
   "cell_type": "code",
   "execution_count": 4,
   "metadata": {
    "ExecuteTime": {
     "end_time": "2024-02-07T06:50:12.213143595Z",
     "start_time": "2024-02-07T06:50:12.185308Z"
    }
   },
   "outputs": [],
   "source": [
    "K_esig = sigs @ sigs.T"
   ]
  },
  {
   "cell_type": "markdown",
   "metadata": {},
   "source": [
    "##### Computing the signature kernel with gpsig"
   ]
  },
  {
   "cell_type": "markdown",
   "metadata": {},
   "source": [
    "In gpsig, we first use a state-space embedding $x \\mapsto \\kappa(x, \\cdot)$ from $\\mathbb{R}^d$ into an RKHS $V$, i.e. with some abuse of notation $\\kappa_{\\mathbf{x}} = (\\kappa(x_i, \\cdot))_{i=1,\\dots, l_{\\mathbf x}}$ for $\\mathbf{x} = (x_i)_{i=1,\\dots,l_{\\mathbf x}}$. To recover the same setting as in esig, we may use as state-space embedding the identity map, which specifies that the inner product of two observations is simply the Euclidean inner product. This variant of the signature kernel is called _SignatureLinear_ here.\n",
    "\n",
    "We remark that esig uses the highest order signature features, which corresponds in our case to setting $D = M$, i.e. _order = num_levels_. Furthermore, the default setting is to normalize each signature level, which we have to turn off."
   ]
  },
  {
   "cell_type": "code",
   "execution_count": 5,
   "metadata": {
    "ExecuteTime": {
     "end_time": "2024-02-07T06:50:18.594064986Z",
     "start_time": "2024-02-07T06:50:15.468536574Z"
    }
   },
   "outputs": [
    {
     "name": "stderr",
     "output_type": "stream",
     "text": [
      "2024-02-07 15:50:15.473695: I tensorflow/core/platform/cpu_feature_guard.cc:142] Your CPU supports instructions that this TensorFlow binary was not compiled to use: AVX2 AVX512F FMA\n",
      "2024-02-07 15:50:15.477712: I tensorflow/core/platform/profile_utils/cpu_utils.cc:94] CPU Frequency: 3794130000 Hz\n",
      "2024-02-07 15:50:15.478593: I tensorflow/compiler/xla/service/service.cc:168] XLA service 0x43cfe20 initialized for platform Host (this does not guarantee that XLA will be used). Devices:\n",
      "2024-02-07 15:50:15.478639: I tensorflow/compiler/xla/service/service.cc:176]   StreamExecutor device (0): Host, Default Version\n"
     ]
    }
   ],
   "source": [
    "input_dim = num_features * len_examples\n",
    "kern = gpsig.kernels.SignatureLinear(input_dim, num_features, num_levels, order=num_levels, normalization=False)\n",
    "K_gpsig = kern.compute_K_symm(X.reshape([num_examples, -1]))\n",
    "# merge last two axes of the input since the kernel expects a 2d array"
   ]
  },
  {
   "cell_type": "markdown",
   "metadata": {},
   "source": [
    "##### Comparing the results"
   ]
  },
  {
   "cell_type": "code",
   "execution_count": 6,
   "metadata": {
    "ExecuteTime": {
     "end_time": "2024-02-07T06:50:23.327938003Z",
     "start_time": "2024-02-07T06:50:23.282614783Z"
    }
   },
   "outputs": [
    {
     "name": "stdout",
     "output_type": "stream",
     "text": [
      "2-norm: 1.7334695075910644e-08\n",
      "Fro-norm: 3.441724043753243e-08\n",
      "Inf-norm: 4.4850253289041575e-08\n"
     ]
    }
   ],
   "source": [
    "K_diff = K_esig - K_gpsig\n",
    "print('2-norm: {}'.format(np.linalg.norm(K_diff, ord=2)))\n",
    "print('Fro-norm: {}'.format(np.linalg.norm(K_diff, ord='fro')))\n",
    "print('Inf-norm: {}'.format(np.linalg.norm(K_diff, ord=np.inf)))"
   ]
  },
  {
   "cell_type": "markdown",
   "metadata": {},
   "source": [
    "### Validating the (augmented) signature vs tensor kernel\n",
    "First, let us generate some sparse tensors of the form $\\mathbf{z} = (z_{m,1} \\otimes \\dots \\otimes z_{m, m})_{m=0,\\dots,M}$, i.e. we generate the elements $z_{m,i} \\in \\mathbb{R}^d$ in the tensor products for each $0 \\geq i \\geq m$ and $0 \\geq m \\geq M$.\n",
    "\n",
    "The gpsig kernel expects that the tensors are in $(M(M+1)/2, n_{\\mathbf Z}, d)$ format, i.e. all $z_{m, i}$ are stacked together along the first axis."
   ]
  },
  {
   "cell_type": "code",
   "execution_count": 7,
   "metadata": {
    "ExecuteTime": {
     "end_time": "2024-02-07T06:50:33.353840697Z",
     "start_time": "2024-02-07T06:50:33.349836530Z"
    }
   },
   "outputs": [],
   "source": [
    "num_tensors = 100\n",
    "Z = np.random.randn(int(num_levels*(num_levels+1)/2), num_tensors, num_features)"
   ]
  },
  {
   "cell_type": "markdown",
   "metadata": {},
   "source": [
    "##### Computing the corresponding tensor features"
   ]
  },
  {
   "cell_type": "markdown",
   "metadata": {},
   "source": [
    "The generated components are a low-dimensional representation of the generally high-dimensional tensors, which is feasible due to the sparsity constraint. Hence, next we build the actual tensors that take values in $\\prod_{m=0}^M (\\mathbb{R}^d)^{\\otimes m}$, but we flatten the dimensions out, similarly to the signature features previously."
   ]
  },
  {
   "cell_type": "code",
   "execution_count": 8,
   "metadata": {
    "ExecuteTime": {
     "end_time": "2024-02-07T06:50:34.327971761Z",
     "start_time": "2024-02-07T06:50:34.326778844Z"
    }
   },
   "outputs": [],
   "source": [
    "tens = [np.ones((100, 1))]\n",
    "k = 0\n",
    "for m in range(1, num_levels+1):\n",
    "    Zm = Z[k]\n",
    "    k += 1\n",
    "    for i in range(1, m):\n",
    "        Zm = (Zm[..., None] * Z[k, :, None, :]).reshape([num_tensors, -1])\n",
    "        k += 1\n",
    "    tens.append(Zm)\n",
    "tens = np.concatenate(tens, axis=1)"
   ]
  },
  {
   "cell_type": "code",
   "execution_count": 9,
   "metadata": {
    "ExecuteTime": {
     "end_time": "2024-02-07T06:50:34.792568369Z",
     "start_time": "2024-02-07T06:50:34.786480687Z"
    }
   },
   "outputs": [],
   "source": [
    "K_tens_vs_sig =  tens @ sigs.T"
   ]
  },
  {
   "cell_type": "markdown",
   "metadata": {},
   "source": [
    "##### Computing the tensors vs signatures kernel with gpsig"
   ]
  },
  {
   "cell_type": "code",
   "execution_count": 10,
   "metadata": {
    "ExecuteTime": {
     "end_time": "2024-02-07T06:50:36.150577874Z",
     "start_time": "2024-02-07T06:50:35.990337391Z"
    }
   },
   "outputs": [],
   "source": [
    "K_tens_vs_seq_gpsig = kern.compute_K_tens_vs_seq(Z, X.reshape([num_examples, -1]))"
   ]
  },
  {
   "cell_type": "markdown",
   "metadata": {},
   "source": [
    "##### Comparing the results"
   ]
  },
  {
   "cell_type": "code",
   "execution_count": 11,
   "metadata": {
    "ExecuteTime": {
     "end_time": "2024-02-07T06:50:36.407399704Z",
     "start_time": "2024-02-07T06:50:36.400282912Z"
    }
   },
   "outputs": [
    {
     "name": "stdout",
     "output_type": "stream",
     "text": [
      "2-norm: 2.558928297183924e-11\n",
      "Fro-norm: 5.7703651541852065e-11\n",
      "Inf-norm: 1.5201173653167643e-10\n"
     ]
    }
   ],
   "source": [
    "K_tens_vs_seq_diff = K_tens_vs_sig - K_tens_vs_seq_gpsig\n",
    "print('2-norm: {}'.format(np.linalg.norm(K_tens_vs_seq_diff, ord=2)))\n",
    "print('Fro-norm: {}'.format(np.linalg.norm(K_tens_vs_seq_diff, ord='fro')))\n",
    "print('Inf-norm: {}'.format(np.linalg.norm(K_tens_vs_seq_diff, ord=np.inf)))"
   ]
  },
  {
   "cell_type": "markdown",
   "metadata": {},
   "source": [
    "### Validating the (augmented) tensor vs tensor kernel\n",
    "Finally, we validate the computation of tensor vs tensor inner product in gpsig.\n",
    "\n",
    "##### Computing the tensor vs tensor kernel as inner product of tensor features"
   ]
  },
  {
   "cell_type": "code",
   "execution_count": 12,
   "metadata": {
    "ExecuteTime": {
     "end_time": "2024-02-07T06:50:39.208874323Z",
     "start_time": "2024-02-07T06:50:39.205410338Z"
    }
   },
   "outputs": [],
   "source": [
    "K_tens_vs_tens =  tens @ tens.T"
   ]
  },
  {
   "cell_type": "markdown",
   "metadata": {},
   "source": [
    "##### Computing the tensor vs tensor kernel with gpsig"
   ]
  },
  {
   "cell_type": "code",
   "execution_count": 13,
   "metadata": {
    "ExecuteTime": {
     "end_time": "2024-02-07T06:50:39.565377592Z",
     "start_time": "2024-02-07T06:50:39.513564365Z"
    }
   },
   "outputs": [],
   "source": [
    "K_tens_vs_tens_gpsig = kern.compute_K_tens(Z)"
   ]
  },
  {
   "cell_type": "markdown",
   "metadata": {},
   "source": [
    "##### Comparing the results"
   ]
  },
  {
   "cell_type": "code",
   "execution_count": 14,
   "metadata": {
    "ExecuteTime": {
     "end_time": "2024-02-07T06:50:39.989970313Z",
     "start_time": "2024-02-07T06:50:39.979902477Z"
    }
   },
   "outputs": [
    {
     "name": "stdout",
     "output_type": "stream",
     "text": [
      "2-norm: 1.869499526396798e-12\n",
      "Fro-norm: 2.8921770473487292e-12\n",
      "Inf-norm: 2.775668583865354e-12\n"
     ]
    }
   ],
   "source": [
    "K_tens_vs_tens_diff = K_tens_vs_tens - K_tens_vs_tens_gpsig\n",
    "print('2-norm: {}'.format(np.linalg.norm(K_tens_vs_tens_diff, ord=2)))\n",
    "print('Fro-norm: {}'.format(np.linalg.norm(K_tens_vs_tens_diff, ord='fro')))\n",
    "print('Inf-norm: {}'.format(np.linalg.norm(K_tens_vs_tens_diff, ord=np.inf)))"
   ]
  },
  {
   "cell_type": "code",
   "outputs": [],
   "source": [],
   "metadata": {
    "collapsed": false
   }
  }
 ],
 "metadata": {
  "kernelspec": {
   "display_name": "GPU-Havok",
   "language": "python",
   "name": "python3"
  },
  "language_info": {
   "codemirror_mode": {
    "name": "ipython",
    "version": 3
   },
   "file_extension": ".py",
   "mimetype": "text/x-python",
   "name": "python",
   "nbconvert_exporter": "python",
   "pygments_lexer": "ipython3",
   "version": "3.6.9"
  }
 },
 "nbformat": 4,
 "nbformat_minor": 4
}
